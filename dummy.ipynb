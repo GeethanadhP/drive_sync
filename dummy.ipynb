{
 "nbformat": 4,
 "nbformat_minor": 2,
 "metadata": {
  "language_info": {
   "name": "python",
   "codemirror_mode": {
    "name": "ipython",
    "version": 3
   },
   "version": "3.7.6-final"
  },
  "orig_nbformat": 2,
  "file_extension": ".py",
  "mimetype": "text/x-python",
  "name": "python",
  "npconvert_exporter": "python",
  "pygments_lexer": "ipython3",
  "version": 3,
  "kernelspec": {
   "name": "python37664bitenvvenv706d495207614b45802e0503217abe9a",
   "display_name": "Python 3.7.6 64-bit ('.env': venv)"
  }
 },
 "cells": [
  {
   "cell_type": "code",
   "execution_count": 1,
   "metadata": {},
   "outputs": [],
   "source": [
    "from auth import get_creds\n",
    "from model import GoogleDrive, DriveFile\n",
    "from pathlib import Path"
   ]
  },
  {
   "cell_type": "code",
   "execution_count": 2,
   "metadata": {},
   "outputs": [],
   "source": [
    "creds, _ = get_creds('royce.melborn2@gmail.com')\n",
    "drive = self = GoogleDrive(creds)\n",
    "file_list = drive.list_all_files()"
   ]
  },
  {
   "cell_type": "code",
   "execution_count": 3,
   "metadata": {},
   "outputs": [],
   "source": [
    "drive = GoogleDrive(creds)\n",
    "root = DriveFile(drive.get_root())\n",
    "root.path = Path('.')\n",
    "\n",
    "drive.generate_tree(root)\n",
    ""
   ]
  },
  {
   "cell_type": "code",
   "execution_count": 8,
   "metadata": {},
   "outputs": [
    {
     "output_type": "execute_result",
     "data": {
      "text/plain": "PosixPath('.')"
     },
     "metadata": {},
     "execution_count": 8
    }
   ],
   "source": [
    "root.path"
   ]
  },
  {
   "cell_type": "code",
   "execution_count": 9,
   "metadata": {},
   "outputs": [],
   "source": [
    "data_path = Path.home() / \".drive_sync\"\n",
    "\n",
    "config_path = data_path / \"config.yaml\""
   ]
  },
  {
   "cell_type": "code",
   "execution_count": 13,
   "metadata": {},
   "outputs": [
    {
     "output_type": "execute_result",
     "data": {
      "text/plain": "{'gdrive': {'royce.melborn2@gmail.com': {'target': '/home/royce/rdrive'},\n  'gnadh2007@gmail.com': {'target': '/home/royce/ggdrive'}}}"
     },
     "metadata": {},
     "execution_count": 13
    }
   ],
   "source": [
    "import yaml\n",
    "with config_path.open() as f:\n",
    "    config = yaml.safe_load(f)\n",
    "config"
   ]
  },
  {
   "cell_type": "code",
   "execution_count": 6,
   "metadata": {},
   "outputs": [],
   "source": [
    "f = DriveFile(file_list[1])\n",
    "f.generate_paths(base_path='/home/royce/Downloads/drive')\n",
    "self.download(f)"
   ]
  },
  {
   "cell_type": "code",
   "execution_count": 5,
   "metadata": {},
   "outputs": [],
   "source": [
    "self.download('1ni4AbinoRy0s-9eECJZJd8LRRizvwVQA', Path('/home/royce/Downloads/geetha'))"
   ]
  },
  {
   "cell_type": "code",
   "execution_count": 18,
   "metadata": {},
   "outputs": [
    {
     "output_type": "execute_result",
     "data": {
      "text/plain": "<MimeType.OTHER: 'unknown'>"
     },
     "metadata": {},
     "execution_count": 18
    }
   ],
   "source": [
    "from enum import Enum\n",
    "\n",
    "class MimeType(Enum):\n",
    "    FOLDER = \"application/vnd.google-apps.folder\"\n",
    "    GSHEET = \"application/vnd.google-apps.spreadsheet\"\n",
    "    OTHER = 'unknown'\n",
    "\n",
    "    @classmethod\n",
    "    def _missing_(cls, value):\n",
    "        return MimeType.OTHER\n",
    "\n",
    "mime = MimeType('pplication/vnd.google-apps.spreadsheet')\n",
    "\n",
    "mime"
   ]
  }
 ]
}