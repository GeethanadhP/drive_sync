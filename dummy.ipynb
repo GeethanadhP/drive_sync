{
 "nbformat": 4,
 "nbformat_minor": 2,
 "metadata": {
  "language_info": {
   "name": "python",
   "codemirror_mode": {
    "name": "ipython",
    "version": 3
   },
   "version": "3.7.6-final"
  },
  "orig_nbformat": 2,
  "file_extension": ".py",
  "mimetype": "text/x-python",
  "name": "python",
  "npconvert_exporter": "python",
  "pygments_lexer": "ipython3",
  "version": 3,
  "kernelspec": {
   "name": "python37664bitenvvenv706d495207614b45802e0503217abe9a",
   "display_name": "Python 3.7.6 64-bit ('.env': venv)"
  }
 },
 "cells": [
  {
   "cell_type": "code",
   "execution_count": 1,
   "metadata": {},
   "outputs": [],
   "source": [
    "from auth import get_creds\n",
    "from model import GoogleDrive, DriveFolder, DriveFile\n",
    "from pathlib import Path"
   ]
  },
  {
   "cell_type": "code",
   "execution_count": 2,
   "metadata": {},
   "outputs": [],
   "source": [
    "creds, _ = get_creds('royce.melborn2@gmail.com')\n",
    "drive = self = GoogleDrive(creds)\n",
    "file_list = drive.list_files()"
   ]
  },
  {
   "cell_type": "code",
   "execution_count": 33,
   "metadata": {},
   "outputs": [],
   "source": [
    "path = Path('dummy.txt')"
   ]
  },
  {
   "cell_type": "code",
   "execution_count": 34,
   "metadata": {},
   "outputs": [
    {
     "data": {
      "text/plain": "False"
     },
     "execution_count": 34,
     "metadata": {},
     "output_type": "execute_result"
    }
   ],
   "source": [
    "path.exists()"
   ]
  },
  {
   "cell_type": "code",
   "execution_count": 20,
   "metadata": {},
   "outputs": [],
   "source": [
    "root = DriveFolder(self.get_root())\n",
    "root.path = Path('/home/royce/rdrive')\n",
    "\n",
    "drive.generate_tree(root, file_list)"
   ]
  },
  {
   "cell_type": "code",
   "execution_count": 29,
   "metadata": {},
   "outputs": [
    {
     "data": {
      "text/plain": "[{'id': '1--Z_Q1w7-Z-lXnVfBzP8UuunAlGumv0K',\n  'name': '.ipynb_checkpoints',\n  'mimeType': 'application/vnd.google-apps.folder',\n  'parents': ['1HdD79en6uLTK-AE0mH5-eTzl4MArOVBX'],\n  'modifiedTime': '2020-02-22T00:24:06.757Z'},\n {'id': '15Ck2Igk2J5HgO7kgn8UpVkQ9ezfDZPMg',\n  'name': 'datasets',\n  'mimeType': 'application/vnd.google-apps.folder',\n  'parents': ['1HdD79en6uLTK-AE0mH5-eTzl4MArOVBX'],\n  'modifiedTime': '2020-02-22T00:24:06.754Z'},\n {'id': '1HdD79en6uLTK-AE0mH5-eTzl4MArOVBX',\n  'name': 'book - handson_ml2',\n  'mimeType': 'application/vnd.google-apps.folder',\n  'parents': ['1lU5MpHT-HFgHrJh-67S24d7Ix-pDwFSc'],\n  'modifiedTime': '2020-02-22T00:16:09.227Z'},\n {'id': '1lU5MpHT-HFgHrJh-67S24d7Ix-pDwFSc',\n  'name': 'courses',\n  'mimeType': 'application/vnd.google-apps.folder',\n  'parents': ['1_qywDYfEN-RlWS7b6gd_NwLxRzZCAbH3'],\n  'modifiedTime': '2020-02-22T00:15:48.160Z'},\n {'id': '1_qywDYfEN-RlWS7b6gd_NwLxRzZCAbH3',\n  'name': 'Colab Notebooks',\n  'mimeType': 'application/vnd.google-apps.folder',\n  'parents': ['0AMK5s18jhIm0Uk9PVA'],\n  'modifiedTime': '2019-01-07T17:16:27.759Z'}]"
     },
     "execution_count": 29,
     "metadata": {},
     "output_type": "execute_result"
    }
   ],
   "source": [
    "query = \"\"\"\n",
    "        ('me' in owners) and \n",
    "        (trashed=false)\n",
    "    \"\"\"\n",
    "\n",
    "files = drive._list_files(query)\n",
    "len(files)\n",
    "list(filter(lambda x: x['mimeType']==GoogleDrive.mime_types['folder'], files))"
   ]
  },
  {
   "cell_type": "code",
   "execution_count": 30,
   "metadata": {},
   "outputs": [],
   "source": [
    "root_id = '1_qywDYfEN-RlWS7b6gd_NwLxRzZCAbH3'"
   ]
  },
  {
   "cell_type": "code",
   "execution_count": 31,
   "metadata": {},
   "outputs": [
    {
     "data": {
      "text/plain": "1"
     },
     "execution_count": 31,
     "metadata": {},
     "output_type": "execute_result"
    }
   ],
   "source": [
    "query = f\"\"\"\n",
    "        ('me' in owners) and \n",
    "        (trashed=false) and\n",
    "        ('{root_id}' in parents)\n",
    "    \"\"\"\n",
    "\n",
    "files = drive._list_files(query)\n",
    "len(files)"
   ]
  },
  {
   "cell_type": "code",
   "execution_count": 21,
   "metadata": {},
   "outputs": [],
   "source": [
    "root.generate_child_paths()"
   ]
  },
  {
   "cell_type": "code",
   "execution_count": 22,
   "metadata": {},
   "outputs": [
    {
     "data": {
      "text/plain": "PosixPath('/home/royce/rdrive/Colab Notebooks/courses')"
     },
     "execution_count": 22,
     "metadata": {},
     "output_type": "execute_result"
    }
   ],
   "source": [
    "root.children[-3].children[0].path"
   ]
  },
  {
   "cell_type": "code",
   "execution_count": 8,
   "metadata": {},
   "outputs": [],
   "source": [
    "root_folder = DriveFolder(self.get_root())\n",
    "file_map = {root_folder.id: root_folder}\n",
    "\n",
    "for data in file_list:\n",
    "    if data[\"mimeType\"] == GoogleDrive.mime_types[\"folder\"]:\n",
    "        file_map[data[\"id\"]] = DriveFolder(data)\n",
    "    else:\n",
    "        file_map[data[\"id\"]] = DriveFile(data)\n",
    "\n",
    "for d_file in file_map.values():\n",
    "    for pid in d_file.parents:\n",
    "        file_map[pid].add_child(d_file)"
   ]
  },
  {
   "cell_type": "code",
   "execution_count": 9,
   "metadata": {},
   "outputs": [
    {
     "data": {
      "text/plain": "[Crypto Trade,\n Misc,\n Book Review Template,\n My Games Helper,\n Game of Sultans,\n My Finance,\n Games,\n VRS Calculator,\n VRS Calculator.xlsx,\n Chat backup_ 1432654376805.txt,\n Colab Notebooks,\n Untitled document,\n Armory Backup.pdf]"
     },
     "execution_count": 9,
     "metadata": {},
     "output_type": "execute_result"
    }
   ],
   "source": [
    "root_folder.children"
   ]
  }
 ]
}