{
 "nbformat": 4,
 "nbformat_minor": 2,
 "metadata": {
  "language_info": {
   "name": "python",
   "codemirror_mode": {
    "name": "ipython",
    "version": 3
   },
   "version": "3.7.6-final"
  },
  "orig_nbformat": 2,
  "file_extension": ".py",
  "mimetype": "text/x-python",
  "name": "python",
  "npconvert_exporter": "python",
  "pygments_lexer": "ipython3",
  "version": 3,
  "kernelspec": {
   "name": "python37664bitenvvenv706d495207614b45802e0503217abe9a",
   "display_name": "Python 3.7.6 64-bit ('.env': venv)"
  }
 },
 "cells": [
  {
   "cell_type": "code",
   "execution_count": 1,
   "metadata": {},
   "outputs": [],
   "source": [
    "from auth import get_creds\n",
    "from model import GoogleDrive, DriveFolder, DriveFile"
   ]
  },
  {
   "cell_type": "code",
   "execution_count": 2,
   "metadata": {},
   "outputs": [],
   "source": [
    "drive = self = GoogleDrive(get_creds())\n",
    "file_list = drive.list_files()"
   ]
  },
  {
   "cell_type": "code",
   "execution_count": 4,
   "metadata": {},
   "outputs": [
    {
     "name": "stdout",
     "output_type": "stream",
     "text": "{\n  \"My Drive\": [\n    \"Crypto Trade\",\n    \"Misc\",\n    \"Book Review Template\",\n    \"My Games Helper\",\n    \"Game of Sultans\",\n    \"My Finance\",\n    \"Games\",\n    \"VRS Calculator\",\n    \"VRS Calculator.xlsx\",\n    \"Chat backup_ 1432654376805.txt\",\n    {\n      \"Colab Notebooks\": [\n        {\n          \"courses\": [\n            {\n              \"book - handson_ml2\": [\n                \"03_classification.ipynb\",\n                \"03_svm_clf.job\",\n                \"03_dataset.job\",\n                \"02_end_to_end_ml_project.ipynb\",\n                \"housing_pipeline.pkl\",\n                \"housing_test.pkl\",\n                \"housing_train.pkl\",\n                \"housing_forest_model.pkl\",\n                {\n                  \".ipynb_checkpoints\": []\n                },\n                {\n                  \"datasets\": [\n                    \"housing.csv\",\n                    \"housing.tgz\"\n                  ]\n                }\n              ]\n            }\n          ]\n        }\n      ]\n    },\n    \"Untitled document\",\n    \"Armory Backup.pdf\"\n  ]\n}\n"
    }
   ],
   "source": [
    "print(root_folder.pretty())"
   ]
  },
  {
   "cell_type": "code",
   "execution_count": 5,
   "metadata": {},
   "outputs": [
    {
     "data": {
      "text/plain": "{'id': '106FOyKTsaCNnn_YFgje8ZaI8Hal9MPoG',\n 'name': 'Armory Backup.pdf',\n 'mimeType': 'application/pdf',\n 'parents': ['0AMK5s18jhIm0Uk9PVA'],\n 'modifiedTime': '2017-12-07T21:43:40.681Z',\n 'md5Checksum': 'cc6cd4da076df449037927284b879e9d'}"
     },
     "execution_count": 5,
     "metadata": {},
     "output_type": "execute_result"
    }
   ],
   "source": [
    "data"
   ]
  },
  {
   "cell_type": "code",
   "execution_count": 16,
   "metadata": {},
   "outputs": [
    {
     "data": {
      "text/plain": "[Colab Notebooks]"
     },
     "execution_count": 16,
     "metadata": {},
     "output_type": "execute_result"
    }
   ],
   "source": [
    "root_folders"
   ]
  },
  {
   "cell_type": "code",
   "execution_count": 10,
   "metadata": {},
   "outputs": [
    {
     "data": {
      "text/plain": "['1_qywDYfEN-RlWS7b6gd_NwLxRzZCAbH3']"
     },
     "execution_count": 10,
     "metadata": {},
     "output_type": "execute_result"
    }
   ],
   "source": [
    "root_folders"
   ]
  },
  {
   "cell_type": "code",
   "execution_count": 15,
   "metadata": {},
   "outputs": [],
   "source": [
    "query = f\"\"\"\n",
    "            ('me' in owners)\n",
    "            and (trashed = false)\n",
    "            and (mimeType = '{GoogleDrive.mime_types[\"folder\"]}')\n",
    "            and ('root' in parents)\n",
    "        \"\"\"\n",
    "root_folders = drive._list_files(query)"
   ]
  },
  {
   "cell_type": "code",
   "execution_count": 5,
   "metadata": {},
   "outputs": [
    {
     "data": {
      "text/plain": "{'1--Z_Q1w7-Z-lXnVfBzP8UuunAlGumv0K': .ipynb_checkpoints,\n '15Ck2Igk2J5HgO7kgn8UpVkQ9ezfDZPMg': datasets,\n '1HdD79en6uLTK-AE0mH5-eTzl4MArOVBX': book - handson_ml2,\n '1lU5MpHT-HFgHrJh-67S24d7Ix-pDwFSc': courses,\n '1_qywDYfEN-RlWS7b6gd_NwLxRzZCAbH3': Colab Notebooks}"
     },
     "execution_count": 5,
     "metadata": {},
     "output_type": "execute_result"
    }
   ],
   "source": [
    "folders"
   ]
  },
  {
   "cell_type": "code",
   "execution_count": 16,
   "metadata": {},
   "outputs": [
    {
     "data": {
      "text/plain": "[{'id': '1ni4AbinoRy0s-9eECJZJd8LRRizvwVQA',\n  'name': '03_classification.ipynb',\n  'mimeType': 'application/vnd.google.colaboratory',\n  'parents': ['1HdD79en6uLTK-AE0mH5-eTzl4MArOVBX'],\n  'modifiedTime': '2020-03-13T19:50:31.663Z',\n  'md5Checksum': '880611bcc9554f6f4a77ce288ab03177'},\n {'id': '16S4RyxRGZELBxJkaYSbMxKd7XfiMKBaToCrSp--ncKs',\n  'name': 'Crypto Trade',\n  'mimeType': 'application/vnd.google-apps.spreadsheet',\n  'parents': ['0AMK5s18jhIm0Uk9PVA'],\n  'modifiedTime': '2020-03-13T19:23:33.671Z'},\n {'id': '1YspSFL7qetkeE2xtGM6uWANP4kY1LDbHTc0TRswjats',\n  'name': 'Misc',\n  'mimeType': 'application/vnd.google-apps.spreadsheet',\n  'parents': ['0AMK5s18jhIm0Uk9PVA'],\n  'modifiedTime': '2020-03-12T17:37:30.916Z'},\n {'id': '1jGTH3GlXEQGAS7MjRySTviMtfFc36jbH',\n  'name': '03_svm_clf.job',\n  'mimeType': 'application/octet-stream',\n  'parents': ['1HdD79en6uLTK-AE0mH5-eTzl4MArOVBX'],\n  'modifiedTime': '2020-03-08T00:50:06.986Z',\n  'md5Checksum': 'f61a0a5dd779ed668772fa7b6fd1ade3'},\n {'id': '1yzn9wt-qSdsgNEPVAJE5p5askzWbGp9Q',\n  'name': '03_dataset.job',\n  'mimeType': 'application/octet-stream',\n  'parents': ['1HdD79en6uLTK-AE0mH5-eTzl4MArOVBX'],\n  'modifiedTime': '2020-03-04T22:05:08.940Z',\n  'md5Checksum': '3ac41648dd101c7b4c70a0d2b04c1163'},\n {'id': '1V2-I6SxW6TRfnVkcE74bdCWxAwKEX2G6',\n  'name': '02_end_to_end_ml_project.ipynb',\n  'mimeType': 'application/vnd.google.colaboratory',\n  'parents': ['1HdD79en6uLTK-AE0mH5-eTzl4MArOVBX'],\n  'modifiedTime': '2020-02-25T21:59:23.819Z',\n  'md5Checksum': 'ce1fbba9468d92dcb9ae8d5b16a1d642'},\n {'id': '1Fekat52ulihG-9qI5UevY7BTJZ0YqzX2',\n  'name': 'housing_pipeline.pkl',\n  'mimeType': 'application/octet-stream',\n  'parents': ['1HdD79en6uLTK-AE0mH5-eTzl4MArOVBX'],\n  'modifiedTime': '2020-02-25T21:54:12.338Z',\n  'md5Checksum': '848720c5c20947f95be8c2afb7a20fe3'},\n {'id': '1XmDI8M_ewbqNYqzw481_6Te3aHwinVhI',\n  'name': 'housing_test.pkl',\n  'mimeType': 'application/octet-stream',\n  'parents': ['1HdD79en6uLTK-AE0mH5-eTzl4MArOVBX'],\n  'modifiedTime': '2020-02-25T21:54:11.669Z',\n  'md5Checksum': 'e8534993a37d6a9d3ed3bb7bc613024d'},\n {'id': '1tjSbExbjn-BG9eKC5NYvdJPZuhzav0qd',\n  'name': 'housing_train.pkl',\n  'mimeType': 'application/octet-stream',\n  'parents': ['1HdD79en6uLTK-AE0mH5-eTzl4MArOVBX'],\n  'modifiedTime': '2020-02-25T21:54:10.904Z',\n  'md5Checksum': '806b1acc99d2f968eb666f848bb0288c'},\n {'id': '1-2EedLs4cvQHaDH4KWIDPAqhact_S8NC',\n  'name': 'housing_forest_model.pkl',\n  'mimeType': 'application/octet-stream',\n  'parents': ['1HdD79en6uLTK-AE0mH5-eTzl4MArOVBX'],\n  'modifiedTime': '2020-02-25T21:54:05.670Z',\n  'md5Checksum': 'b3d4a9671278a56942aeb3aeab830459'},\n {'id': '1vQ3Hod6C6h8CkIi6GKsU2YZwZFZhAuS2',\n  'name': 'housing.csv',\n  'mimeType': 'text/csv',\n  'parents': ['15Ck2Igk2J5HgO7kgn8UpVkQ9ezfDZPMg'],\n  'modifiedTime': '2020-02-22T20:34:51.407Z',\n  'md5Checksum': 'd1c47305887e2252bf1ccbd74ff159a6'},\n {'id': '1N-dcw_xyDS_SdhnCULb7B4f97J1ofXwM',\n  'name': 'housing.tgz',\n  'mimeType': 'application/x-gzip',\n  'parents': ['15Ck2Igk2J5HgO7kgn8UpVkQ9ezfDZPMg'],\n  'modifiedTime': '2020-02-22T20:34:50.440Z',\n  'md5Checksum': 'cdcd0f93f7aeaebbe1d63c1071ad7687'},\n {'id': '1--Z_Q1w7-Z-lXnVfBzP8UuunAlGumv0K',\n  'name': '.ipynb_checkpoints',\n  'mimeType': 'application/vnd.google-apps.folder',\n  'parents': ['1HdD79en6uLTK-AE0mH5-eTzl4MArOVBX'],\n  'modifiedTime': '2020-02-22T00:24:06.757Z'},\n {'id': '15Ck2Igk2J5HgO7kgn8UpVkQ9ezfDZPMg',\n  'name': 'datasets',\n  'mimeType': 'application/vnd.google-apps.folder',\n  'parents': ['1HdD79en6uLTK-AE0mH5-eTzl4MArOVBX'],\n  'modifiedTime': '2020-02-22T00:24:06.754Z'},\n {'id': '1HdD79en6uLTK-AE0mH5-eTzl4MArOVBX',\n  'name': 'book - handson_ml2',\n  'mimeType': 'application/vnd.google-apps.folder',\n  'parents': ['1lU5MpHT-HFgHrJh-67S24d7Ix-pDwFSc'],\n  'modifiedTime': '2020-02-22T00:16:09.227Z'},\n {'id': '1lU5MpHT-HFgHrJh-67S24d7Ix-pDwFSc',\n  'name': 'courses',\n  'mimeType': 'application/vnd.google-apps.folder',\n  'parents': ['1_qywDYfEN-RlWS7b6gd_NwLxRzZCAbH3'],\n  'modifiedTime': '2020-02-22T00:15:48.160Z'},\n {'id': '1k_cKEoVii3BhS00im4gQrfXv30NrRdlqoCoQQ4d74U0',\n  'name': 'Book Review Template',\n  'mimeType': 'application/vnd.google-apps.spreadsheet',\n  'parents': ['0AMK5s18jhIm0Uk9PVA'],\n  'modifiedTime': '2020-01-20T02:35:09.787Z'},\n {'id': '14xo9Ye1tBtS8FwYfA4P7JNSYA7Py77X7TSc5VOchUkQ',\n  'name': 'My Games Helper',\n  'mimeType': 'application/vnd.google-apps.spreadsheet',\n  'parents': ['0AMK5s18jhIm0Uk9PVA'],\n  'modifiedTime': '2020-01-03T18:42:51.792Z'},\n {'id': '1xVh2-EYce-UeN5lO1A4RjiIGDP52nZo8y1xCXc7T95g',\n  'name': 'Game of Sultans',\n  'mimeType': 'application/vnd.google-apps.spreadsheet',\n  'parents': ['0AMK5s18jhIm0Uk9PVA'],\n  'modifiedTime': '2019-12-16T01:55:33.248Z'},\n {'id': '16Cu8dSp1l_tolDvXg5oMK51Zo6xX6ywdDkpbvJVTNd4',\n  'name': 'My Finance',\n  'mimeType': 'application/vnd.google-apps.spreadsheet',\n  'parents': ['0AMK5s18jhIm0Uk9PVA'],\n  'modifiedTime': '2019-11-01T23:23:18.310Z'},\n {'id': '1VPb6Ar-qJgA7rDaz3J_dnenzFbvJSGApirDojqHIAj0',\n  'name': 'Games',\n  'mimeType': 'application/vnd.google-apps.spreadsheet',\n  'parents': ['0AMK5s18jhIm0Uk9PVA'],\n  'modifiedTime': '2019-08-19T12:35:17.138Z'},\n {'id': '1McTcrfGgzNrLSS0D_EouOjndpj3hWEP92PK6vjPzfR0',\n  'name': 'VRS Calculator',\n  'mimeType': 'application/vnd.google-apps.spreadsheet',\n  'parents': ['0AMK5s18jhIm0Uk9PVA'],\n  'modifiedTime': '2019-08-07T07:17:44.109Z'},\n {'id': '1REiWBORLcZjzpZqkv_zkD--5WH8Vd5P2',\n  'name': 'VRS Calculator.xlsx',\n  'mimeType': 'application/vnd.openxmlformats-officedocument.spreadsheetml.sheet',\n  'parents': ['0AMK5s18jhIm0Uk9PVA'],\n  'modifiedTime': '2019-08-06T19:43:09.359Z',\n  'md5Checksum': 'cc0e6a0a8065c7220a94a9f52e69beea'},\n {'id': '0B8K5s18jhIm0OTN4LXEzMlItZVoxbmE1cnFOeXhMcF9tUXo0',\n  'name': 'Chat backup_ 1432654376805.txt',\n  'mimeType': 'text/plain',\n  'parents': ['0AMK5s18jhIm0Uk9PVA'],\n  'modifiedTime': '2019-01-18T12:42:35.452Z',\n  'md5Checksum': '9d3ee32386976a4446e9282ecb28481b'},\n {'id': '1_qywDYfEN-RlWS7b6gd_NwLxRzZCAbH3',\n  'name': 'Colab Notebooks',\n  'mimeType': 'application/vnd.google-apps.folder',\n  'parents': ['0AMK5s18jhIm0Uk9PVA'],\n  'modifiedTime': '2019-01-07T17:16:27.759Z'},\n {'id': '1CT6fEFwJvuR14xOMFR5ZP7agdlG0NxEDfRGaefPUI6g',\n  'name': 'Untitled document',\n  'mimeType': 'application/vnd.google-apps.document',\n  'parents': ['0AMK5s18jhIm0Uk9PVA'],\n  'modifiedTime': '2018-04-03T19:26:14.695Z'},\n {'id': '106FOyKTsaCNnn_YFgje8ZaI8Hal9MPoG',\n  'name': 'Armory Backup.pdf',\n  'mimeType': 'application/pdf',\n  'parents': ['0AMK5s18jhIm0Uk9PVA'],\n  'modifiedTime': '2017-12-07T21:43:40.681Z',\n  'md5Checksum': 'cc6cd4da076df449037927284b879e9d'}]"
     },
     "execution_count": 16,
     "metadata": {},
     "output_type": "execute_result"
    }
   ],
   "source": [
    "file_list"
   ]
  },
  {
   "cell_type": "code",
   "execution_count": null,
   "metadata": {},
   "outputs": [],
   "source": [
    "drive.generate_structure(file_list)"
   ]
  },
  {
   "cell_type": "code",
   "execution_count": null,
   "metadata": {},
   "outputs": [],
   "source": [
    "page_token = None\n",
    "cols = 'id, name, modifiedTime, mimeType, parents'\n",
    "files = (drive.files().list(spaces='drive', fields=f'nextPageToken, files({cols})', pageToken=page_token, \n",
    "        q=\"('me' in owners) and (trashed=false)\")\n",
    "        .execute())\n",
    "files['files']"
   ]
  }
 ]
}